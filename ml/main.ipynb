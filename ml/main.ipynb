{
 "cells": [
  {
   "cell_type": "code",
   "execution_count": 1,
   "metadata": {},
   "outputs": [
    {
     "name": "stdout",
     "output_type": "stream",
     "text": [
      "\n",
      "Меню:\n",
      "1. Создать новую модель\n",
      "2. Загрузить существующую модель\n",
      "3. Добавить данные в модель\n",
      "4. Задать вопрос модели\n",
      "5. Выход\n"
     ]
    },
    {
     "name": "stderr",
     "output_type": "stream",
     "text": [
      "\u001b[32m2024-11-27 14:12:42.103\u001b[0m | \u001b[1mINFO    \u001b[0m | \u001b[36mrag_model\u001b[0m:\u001b[36m__init__\u001b[0m:\u001b[36m40\u001b[0m - \u001b[1mИнициализирована модель football в models\\football\u001b[0m\n"
     ]
    },
    {
     "name": "stdout",
     "output_type": "stream",
     "text": [
      "Модель 'football' успешно создана.\n",
      "\n",
      "Меню:\n",
      "1. Создать новую модель\n",
      "2. Загрузить существующую модель\n",
      "3. Добавить данные в модель\n",
      "4. Задать вопрос модели\n",
      "5. Выход\n",
      "\n",
      "Ответ модели:\n",
      " Вопрос: Каков возраст Лионеля Месси?\n",
      "\n",
      "Ответ: 36 лет. (По данным на декабрь 2023 года)\n",
      "\n",
      "Меню:\n",
      "1. Создать новую модель\n",
      "2. Загрузить существующую модель\n",
      "3. Добавить данные в модель\n",
      "4. Задать вопрос модели\n",
      "5. Выход\n",
      "Выход из программы.\n"
     ]
    }
   ],
   "source": [
    "from rag_model import RAGModel\n",
    "\n",
    "# Меню действий\n",
    "while True:\n",
    "    print(\"\\nМеню:\")\n",
    "    print(\"1. Создать новую модель\")\n",
    "    print(\"2. Загрузить существующую модель\")\n",
    "    print(\"3. Добавить данные в модель\")\n",
    "    print(\"4. Задать вопрос модели\")\n",
    "    print(\"5. Выход\")\n",
    "\n",
    "    choice = input(\"Введите номер действия: \").strip()\n",
    "\n",
    "    if choice == \"1\":\n",
    "        # Создание новой модели\n",
    "        model_name = input(\"Введите имя новой модели: \").strip()\n",
    "        database_path = input(\"Введите путь к папке с базой данных: \").strip()\n",
    "        model = RAGModel(model_name=model_name, database_path=database_path)\n",
    "        print(f\"Модель '{model_name}' успешно создана.\")\n",
    "\n",
    "    elif choice == \"2\":\n",
    "        # Загрузка существующей модели\n",
    "        model_name = input(\"Введите имя модели: \").strip()\n",
    "        try:\n",
    "            model = RAGModel(model_name=model_name)\n",
    "            print(f\"Модель '{model_name}' успешно загружена.\")\n",
    "        except Exception as e:\n",
    "            print(f\"Ошибка: {e}\")\n",
    "\n",
    "    elif choice == \"3\":\n",
    "        # Добавление данных в модель\n",
    "        try:\n",
    "            database_path = input(\"Введите путь к папке с новыми данными: \").strip()\n",
    "            model.database_path = database_path\n",
    "            model.db = model._get_index_db()\n",
    "            print(f\"Данные из '{database_path}' успешно добавлены в модель.\")\n",
    "        except Exception as e:\n",
    "            print(f\"Ошибка: {e}\")\n",
    "\n",
    "    elif choice == \"4\":\n",
    "        # Задать вопрос модели\n",
    "        try:\n",
    "            question = input(\"Введите ваш вопрос: \").strip()\n",
    "            answer = model.ask_question(question)\n",
    "            print(\"\\nОтвет модели:\\n\", answer)\n",
    "        except Exception as e:\n",
    "            print(f\"Ошибка: {e}\")\n",
    "\n",
    "    elif choice == \"5\":\n",
    "        print(\"Выход из программы.\")\n",
    "        break\n",
    "\n",
    "    else:\n",
    "        print(\"Неверный ввод. Попробуйте снова.\")\n"
   ]
  }
 ],
 "metadata": {
  "kernelspec": {
   "display_name": "Python 3",
   "language": "python",
   "name": "python3"
  },
  "language_info": {
   "codemirror_mode": {
    "name": "ipython",
    "version": 3
   },
   "file_extension": ".py",
   "mimetype": "text/x-python",
   "name": "python",
   "nbconvert_exporter": "python",
   "pygments_lexer": "ipython3",
   "version": "3.12.5"
  }
 },
 "nbformat": 4,
 "nbformat_minor": 2
}
